{
 "cells": [
  {
   "cell_type": "code",
   "execution_count": 2,
   "id": "f1794121-30aa-4605-8c94-7ce60890d342",
   "metadata": {},
   "outputs": [
    {
     "name": "stdout",
     "output_type": "stream",
     "text": [
      "[4, 2, 3, 1]\n"
     ]
    }
   ],
   "source": [
    "def swap_first_last(lst):\n",
    "    if len(lst) > 1:\n",
    "        \n",
    "        lst[0], lst[-1] = lst[-1], lst[0]\n",
    "\n",
    "\n",
    "my_list = [1, 2, 3, 4]\n",
    "swap_first_last(my_list) \n",
    "print(my_list)  \n",
    "\n",
    "\n",
    "\n",
    "\n",
    "\n",
    "\n",
    "\n",
    "\n"
   ]
  },
  {
   "cell_type": "code",
   "execution_count": 3,
   "id": "55e4ae29-4467-4b27-8b87-c22a7fa890d1",
   "metadata": {},
   "outputs": [
    {
     "name": "stdout",
     "output_type": "stream",
     "text": [
      "Hello Alice\n",
      "Hi Bob\n"
     ]
    }
   ],
   "source": [
    "def greet(name, greeting=\"Hello\"):\n",
    "    return greeting + \" \" + name\n",
    "\n",
    "print(greet(\"Alice\"))  \n",
    "\n",
    "print(greet(\"Bob\", \"Hi\"))  \n",
    "\n",
    "\n",
    "\n",
    "\n",
    "\n",
    "\n",
    "\n"
   ]
  },
  {
   "cell_type": "markdown",
   "id": "59dbe942-f783-44f7-81c2-9b3cac962ae4",
   "metadata": {},
   "source": [
    "# "
   ]
  }
 ],
 "metadata": {
  "kernelspec": {
   "display_name": "Python 3 (ipykernel)",
   "language": "python",
   "name": "python3"
  },
  "language_info": {
   "codemirror_mode": {
    "name": "ipython",
    "version": 3
   },
   "file_extension": ".py",
   "mimetype": "text/x-python",
   "name": "python",
   "nbconvert_exporter": "python",
   "pygments_lexer": "ipython3",
   "version": "3.12.7"
  }
 },
 "nbformat": 4,
 "nbformat_minor": 5
}
