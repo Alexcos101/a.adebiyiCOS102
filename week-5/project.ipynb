{
 "cells": [
  {
   "cell_type": "code",
   "execution_count": 1,
   "id": "666817f5-179d-4e56-838d-b1b712ef1180",
   "metadata": {},
   "outputs": [],
   "source": [
    "import tkinter as tk\n",
    "from tkinter import messagebox\n",
    "import csv\n",
    "\n",
    "# Load employee data from CSV file\n",
    "def load_employees(filename):\n",
    "    employees = []\n",
    "    try:\n",
    "        with open(filename, mode='r') as file:\n",
    "            reader = csv.DictReader(file)\n",
    "            for row in reader:\n",
    "                employees.append({\n",
    "                    \"Name\": row[\"Name\"].strip(),\n",
    "                    \"Department\": row[\"Department\"].strip()\n",
    "                })\n",
    "    except FileNotFoundError:\n",
    "        messagebox.showerror(\"File Error\", \"GIG-logistics.csv not found in the directory.\")\n",
    "    return employees\n",
    "\n",
    "# Check if employee exists\n",
    "def check_employee():\n",
    "    name = name_entry.get().strip()\n",
    "    department = department_entry.get().strip()\n",
    "\n",
    "    employees = load_employees(\"GIG-logistics.csv\")\n",
    "\n",
    "    match = [emp for emp in employees if emp[\"Name\"].lower() == name.lower() and emp[\"Department\"].lower() == department.lower()]\n",
    "    \n",
    "    if match:\n",
    "        others = [emp[\"Name\"] for emp in employees if emp[\"Department\"].lower() == department.lower() and emp[\"Name\"].lower() != name.lower()]\n",
    "        message = f\"Welcome {name}!\\n\\nOther members of {department}:\\n\" + (\", \".join(others) if others else \"None\")\n",
    "        messagebox.showinfo(\"Employee Verified\", message)\n",
    "    else:\n",
    "        messagebox.showwarning(\"Not Found\", f\"{name} in {department} department was not found.\")\n",
    "\n",
    "# GUI setup\n",
    "root = tk.Tk()\n",
    "root.title(\"GIG Logistics - Employee Verification\")\n",
    "root.geometry(\"420x250\")\n",
    "\n",
    "# Name entry\n",
    "tk.Label(root, text=\"Employee Name:\").pack(pady=5)\n",
    "name_entry = tk.Entry(root, width=40)\n",
    "name_entry.pack()\n",
    "\n",
    "# Department entry\n",
    "tk.Label(root, text=\"Department:\").pack(pady=5)\n",
    "department_entry = tk.Entry(root, width=40)\n",
    "department_entry.pack()\n",
    "\n",
    "# Submit button\n",
    "tk.Button(root, text=\"Verify\", command=check_employee).pack(pady=20)\n",
    "\n",
    "# Run app\n",
    "root.mainloop()\n"
   ]
  },
  {
   "cell_type": "code",
   "execution_count": null,
   "id": "59365541-a1d9-46f9-a8d7-13451611c8c8",
   "metadata": {},
   "outputs": [],
   "source": []
  }
 ],
 "metadata": {
  "kernelspec": {
   "display_name": "Python 3 (ipykernel)",
   "language": "python",
   "name": "python3"
  },
  "language_info": {
   "codemirror_mode": {
    "name": "ipython",
    "version": 3
   },
   "file_extension": ".py",
   "mimetype": "text/x-python",
   "name": "python",
   "nbconvert_exporter": "python",
   "pygments_lexer": "ipython3",
   "version": "3.12.7"
  }
 },
 "nbformat": 4,
 "nbformat_minor": 5
}
