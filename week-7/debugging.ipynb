{
 "cells": [
  {
   "cell_type": "code",
   "execution_count": 3,
   "id": "db072a25-1c5e-4f67-85cf-1840db67d3e1",
   "metadata": {},
   "outputs": [
    {
     "name": "stdout",
     "output_type": "stream",
     "text": [
      "        0\n",
      "0     CSC\n",
      "1     102\n",
      "2      is\n",
      "3     the\n",
      "4    best\n",
      "5  course\n",
      "6    ever\n"
     ]
    }
   ],
   "source": [
    "import pandas as pd\n",
    "\n",
    "# list of strings\n",
    "lyst = ['CSC', '102', 'is', 'the', 'best', 'course', 'ever']\n",
    "\n",
    "# Correct constructor and variable name\n",
    "df = pd.DataFrame(lyst)\n",
    "\n",
    "# Print the output\n",
    "print(df)\n"
   ]
  },
  {
   "cell_type": "code",
   "execution_count": 4,
   "id": "a3261cfa-8b72-4074-b9de-59f5511739f8",
   "metadata": {},
   "outputs": [
    {
     "name": "stdout",
     "output_type": "stream",
     "text": [
      "       Name  Age\n",
      "0    Angela   20\n",
      "1  Precious   21\n",
      "2      Luis   19\n",
      "3       Ade   18\n"
     ]
    }
   ],
   "source": [
    "import pandas as pd\n",
    "\n",
    "# initialize data of lists (fix length mismatch)\n",
    "data = {'Name': ['Angela', 'Precious', 'Luis', 'Ade'],\n",
    "        'Age': [20, 21, 19, 18]}\n",
    "\n",
    "# Fix DataFrame typo\n",
    "df = pd.DataFrame(data)\n",
    "\n",
    "print(df)\n"
   ]
  },
  {
   "cell_type": "code",
   "execution_count": 5,
   "id": "b118ff2f-207d-4b21-969d-5501f86b5954",
   "metadata": {},
   "outputs": [
    {
     "name": "stdout",
     "output_type": "stream",
     "text": [
      "     Name Qualification\n",
      "0    Clem           Msc\n",
      "1  Prince            MA\n",
      "2  Edward           MCA\n",
      "3   Adele           Phd\n"
     ]
    }
   ],
   "source": [
    "import pandas as pd\n",
    "\n",
    "data = {'Name': ['Clem', 'Prince', 'Edward', 'Adele'],\n",
    "        'Age': [27, 24, 22, 32],\n",
    "        'Address': ['Abuja', 'Kano', 'Minna', 'Lagos'],\n",
    "        'Qualification': ['Msc', 'MA', 'MCA', 'Phd']}\n",
    "\n",
    "# Fix 'pf' to 'pd'\n",
    "df = pd.DataFrame(data)\n",
    "\n",
    "# Select columns\n",
    "print(df[['Name', 'Qualification']])\n"
   ]
  },
  {
   "cell_type": "code",
   "execution_count": 6,
   "id": "b7866e3e-6c41-4e52-83ba-0fc0269a19f5",
   "metadata": {},
   "outputs": [
    {
     "name": "stdout",
     "output_type": "stream",
     "text": [
      "Name              Oyin\n",
      "Age                 27\n",
      "Address          Asaba\n",
      "Qualification      Msc\n",
      "Name: 0, dtype: object\n"
     ]
    }
   ],
   "source": [
    "import pandas as pd\n",
    "\n",
    "data = {'Name': ['Oyin', 'Mary', 'David', 'Bola'],\n",
    "        'Age': [27, 24, 22, 32],\n",
    "        'Address': ['Asaba', 'Maiduguri', 'Onitsha', 'Kwara'],\n",
    "        'Qualification': ['Msc', 'MA', 'MCA', 'Phd']}\n",
    "\n",
    "# Fix DataFrame typo\n",
    "df = pd.DataFrame(data)\n",
    "\n",
    "# Select first row\n",
    "print(df.iloc[0])\n"
   ]
  },
  {
   "cell_type": "code",
   "execution_count": 10,
   "id": "241a996b-e39e-466a-9d32-3f24406485c9",
   "metadata": {},
   "outputs": [
    {
     "name": "stdout",
     "output_type": "stream",
     "text": [
      "    Employee Names  Years  Assesment Records  Points  Reward\n",
      "0      Matthew Ade     25              125.3      21  438.55\n",
      "1   Angela Adebisi     15               77.9      14  181.77\n",
      "2  Calistus Ndukwe     10              144.2      18  432.60\n",
      "3   Martha Martins      9               81.5      25  339.58\n",
      "4    Victor Sayola     18               77.8      33  427.90\n",
      "5      Adamu Bello     23               99.5      24  398.00\n"
     ]
    }
   ],
   "source": [
    "import pandas as pd\n",
    "\n",
    "# Load CSV file into a DataFrame\n",
    "data = pd.read_csv(\"C:/Users/23480/Desktop/employee_records.csv\")\n",
    "\n",
    "# Display the DataFrame\n",
    "print(data)\n"
   ]
  },
  {
   "cell_type": "code",
   "execution_count": 11,
   "id": "ea239edf-4457-4791-8339-86f339a2da6a",
   "metadata": {},
   "outputs": [
    {
     "name": "stdout",
     "output_type": "stream",
     "text": [
      "Employee Names       Matthew Ade\n",
      "Years                         25\n",
      "Assesment Records          125.3\n",
      "Points                        21\n",
      "Reward                    438.55\n",
      "Name: 0, dtype: object\n"
     ]
    }
   ],
   "source": [
    "import pandas as pd\n",
    "\n",
    "data = pd.read_csv(\"C:/Users/23480/Desktop/employee_records.csv\")\n",
    "\n",
    "# fix 'datas' and 'dg'\n",
    "df = data.iloc[0]\n",
    "\n",
    "print(df)\n"
   ]
  },
  {
   "cell_type": "code",
   "execution_count": 13,
   "id": "7f204cd1-2bac-4383-860a-516dd74fbeee",
   "metadata": {},
   "outputs": [
    {
     "name": "stdout",
     "output_type": "stream",
     "text": [
      "  Employee Names  Years  Assesment Records  Points  Reward\n",
      "0    Matthew Ade     25              125.3      21  438.55\n"
     ]
    }
   ],
   "source": [
    "import pandas as pd\n",
    "\n",
    "# Correct typo in 'panda' and filename\n",
    "data = pd.read_csv(\"C:/Users/23480/Desktop/employee_records.csv\")\n",
    "\n",
    "df = data.head(1)\n",
    "\n",
    "print(df)\n"
   ]
  },
  {
   "cell_type": "code",
   "execution_count": 14,
   "id": "aa90e1c5-b48f-4cb5-8cd3-371f1d8dcbfd",
   "metadata": {},
   "outputs": [
    {
     "name": "stdout",
     "output_type": "stream",
     "text": [
      "0 name      Abdul\n",
      "degree      MBA\n",
      "score        90\n",
      "Name: 0, dtype: object\n",
      "\n",
      "1 name      Chukwuemeka\n",
      "degree            BCA\n",
      "score              40\n",
      "Name: 1, dtype: object\n",
      "\n",
      "2 name        Seyi\n",
      "degree    M.Tech\n",
      "score         80\n",
      "Name: 2, dtype: object\n",
      "\n",
      "3 name      Matt\n",
      "degree     MBA\n",
      "score       98\n",
      "Name: 3, dtype: object\n",
      "\n"
     ]
    }
   ],
   "source": [
    "import pandas as pd\n",
    "\n",
    "# Dictionary\n",
    "data = {'name': [\"Abdul\", \"Chukwuemeka\", \"Seyi\", \"Matt\"],\n",
    "        'degree': [\"MBA\", \"BCA\", \"M.Tech\", \"MBA\"],\n",
    "        'score': [90, 40, 80, 98]}\n",
    "\n",
    "df = pd.DataFrame(data)\n",
    "\n",
    "# Correct dictionary name and use iterrows\n",
    "for i, row in df.iterrows():\n",
    "    print(i, row)\n",
    "    print()\n"
   ]
  },
  {
   "cell_type": "code",
   "execution_count": 15,
   "id": "6368c18a-4ce6-439a-8bb0-af1697521f12",
   "metadata": {},
   "outputs": [
    {
     "name": "stdout",
     "output_type": "stream",
     "text": [
      "Ugochi\n",
      "M.Tech\n",
      "80\n"
     ]
    }
   ],
   "source": [
    "import pandas as pd\n",
    "\n",
    "data = {'name': [\"Bello\", \"Kamara\", \"Ugochi\", \"David\"],\n",
    "        'degree': [\"MBA\", \"BCA\", \"M.Tech\", \"MBA\"],\n",
    "        'score': [90, 40, 80, 98]}\n",
    "\n",
    "df = pd.DataFrame(data)\n",
    "\n",
    "columns = list(df.columns)\n",
    "\n",
    "for col in columns:\n",
    "    print(df[col][2])\n"
   ]
  },
  {
   "cell_type": "code",
   "execution_count": 17,
   "id": "a6dc2eee-089a-4284-be42-8dc21056ab9c",
   "metadata": {},
   "outputs": [],
   "source": [
    "import pandas as pd\n",
    "\n",
    "records = {'name': [\"Abel\", \"Kamsi\", \"Oyode\", \"Chinelo\"],\n",
    "           'degree': [\"MBA\", \"BCA\", \"M.Tech\", \"MBA\"],\n",
    "           'score': [90, 40, 80, 98]}\n",
    "\n",
    "df = pd.DataFrame(records)\n",
    "\n",
    "df.to_csv('record.csv', index=False)\n"
   ]
  },
  {
   "cell_type": "code",
   "execution_count": null,
   "id": "3ce6aec5-f877-4f87-af8d-6d5890dab317",
   "metadata": {},
   "outputs": [],
   "source": []
  }
 ],
 "metadata": {
  "kernelspec": {
   "display_name": "Python 3 (ipykernel)",
   "language": "python",
   "name": "python3"
  },
  "language_info": {
   "codemirror_mode": {
    "name": "ipython",
    "version": 3
   },
   "file_extension": ".py",
   "mimetype": "text/x-python",
   "name": "python",
   "nbconvert_exporter": "python",
   "pygments_lexer": "ipython3",
   "version": "3.12.7"
  }
 },
 "nbformat": 4,
 "nbformat_minor": 5
}
