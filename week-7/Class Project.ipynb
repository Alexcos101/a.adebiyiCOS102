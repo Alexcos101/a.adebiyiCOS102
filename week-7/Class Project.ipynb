{
 "cells": [
  {
   "cell_type": "code",
   "execution_count": 1,
   "id": "4d281a87-985f-4189-b346-71b945658877",
   "metadata": {},
   "outputs": [
    {
     "name": "stdout",
     "output_type": "stream",
     "text": [
      "CSV file saved as cadbury_market.csv\n"
     ]
    }
   ],
   "source": [
    "import pandas as pd\n",
    "\n",
    "# Data\n",
    "cadbury_data = {\n",
    "    \"Segment\": [\"Refreshment Beverages\", \"Refreshment Beverages\", \"Confectionery\", \"Confectionery\", \"Intermediate Cocoa Products\", \"Intermediate Cocoa Products\"],\n",
    "    \"Brand\": [\"CADBURY BOURNVITA\", \"CADBURY 3-in-1 HOT CHOCOLATE\", \"TOMTOM CLASSIC\", \"BUTTERMINT\", \"COCOA POWDER\", \"COCOA BUTTER\"],\n",
    "    \"Export Type\": [\"Local\", \"Local\", \"Local\", \"Local\", \"Export\", \"Export\"]\n",
    "}\n",
    "\n",
    "# Create DataFrame\n",
    "df = pd.DataFrame(cadbury_data)\n",
    "\n",
    "# Save to CSV\n",
    "df.to_csv(\"cadbury_market.csv\", index=False)\n",
    "\n",
    "print(\"CSV file saved as cadbury_market.csv\")\n"
   ]
  }
 ],
 "metadata": {
  "kernelspec": {
   "display_name": "Python 3 (ipykernel)",
   "language": "python",
   "name": "python3"
  },
  "language_info": {
   "codemirror_mode": {
    "name": "ipython",
    "version": 3
   },
   "file_extension": ".py",
   "mimetype": "text/x-python",
   "name": "python",
   "nbconvert_exporter": "python",
   "pygments_lexer": "ipython3",
   "version": "3.12.7"
  }
 },
 "nbformat": 4,
 "nbformat_minor": 5
}
