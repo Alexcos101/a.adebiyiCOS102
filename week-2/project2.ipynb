{
 "cells": [
  {
   "cell_type": "code",
   "execution_count": 4,
   "id": "4b4b3f34-3dd2-4f3b-891a-84a29121c907",
   "metadata": {},
   "outputs": [
    {
     "name": "stdout",
     "output_type": "stream",
     "text": [
      "Welcome to the store!\n"
     ]
    },
    {
     "name": "stdin",
     "output_type": "stream",
     "text": [
      "Enter price of item 1:  540\n",
      "Do you have more items? (YES/NO):  no\n"
     ]
    },
    {
     "name": "stdout",
     "output_type": "stream",
     "text": [
      "Total cost: $540.00\n"
     ]
    },
    {
     "name": "stdin",
     "output_type": "stream",
     "text": [
      "Choose payment method (Credit, Debit, Cash):  cash\n",
      "Is the payment successful? (YES/NO):  yes\n"
     ]
    },
    {
     "name": "stdout",
     "output_type": "stream",
     "text": [
      "Payment successful!\n",
      "Receipt: \n",
      "Total Cost: $540.00\n",
      "Items scanned: 1\n",
      "Thank you for shopping with us!\n"
     ]
    }
   ],
   "source": [
    "START\n",
    "\n",
    "1. Initialize total_cost = 0\n",
    "2. Initialize item_count = 0\n",
    "\n",
    "3. Display \"Welcome to the store!\"\n",
    "4. WHILE there are more items to scan:\n",
    "    a. Ask for item price\n",
    "    b. Add item price to total_cost\n",
    "    c. Increment item_count by 1\n",
    "    d. Ask if more items (YES/NO)\n",
    "    e. If NO, exit loop\n",
    "\n",
    "5. Display total_cost\n",
    "\n",
    "6. Ask for payment method (Credit, Debit, Cash)\n",
    "7. IF payment is successful:\n",
    "    a. Display \"Payment successful!\"\n",
    "    b. Print receipt (total_cost, items)\n",
    "8. ELSE IF payment fails:\n",
    "    a. Display \"Payment failed. Try again.\"\n",
    "\n",
    "9. Thank customer and end transaction\n",
    "\n",
    "END\n"
   ]
  },
  {
   "cell_type": "code",
   "execution_count": 6,
   "id": "34bffc20-872b-47ff-98f4-d8117d20b303",
   "metadata": {},
   "outputs": [
    {
     "name": "stdin",
     "output_type": "stream",
     "text": [
      "Enter the first name:  Alex\n",
      "Enter Alex's age:  18\n",
      "Enter the second name:  Adebiyi\n",
      "Enter Adebiyi's age:  19\n"
     ]
    },
    {
     "name": "stdout",
     "output_type": "stream",
     "text": [
      "Alex is now 19 years old.\n",
      "Adebiyi is now 18 years old.\n"
     ]
    }
   ],
   "source": [
    "def swap_ages():\n",
    "    # Step 1: Input the first name and age\n",
    "    name1 = input(\"Enter the first name: \")\n",
    "    age1 = int(input(f\"Enter {name1}'s age: \"))\n",
    "\n",
    "    # Step 2: Input the second name and age\n",
    "    name2 = input(\"Enter the second name: \")\n",
    "    age2 = int(input(f\"Enter {name2}'s age: \"))\n",
    "\n",
    "    # Step 3: Swap the ages\n",
    "    temp = age1\n",
    "    age1 = age2\n",
    "    age2 = temp\n",
    "\n",
    "    # Step 4: Output the swapped ages\n",
    "    print(f\"{name1} is now {age1} years old.\")\n",
    "    print(f\"{name2} is now {age2} years old.\")\n",
    "\n",
    "# Call the function to execute the program\n",
    "swap_ages()\n"
   ]
  },
  {
   "cell_type": "code",
   "execution_count": null,
   "id": "45ffd0a1-a3ae-4f92-a7c5-d746088782a3",
   "metadata": {},
   "outputs": [],
   "source": []
  }
 ],
 "metadata": {
  "kernelspec": {
   "display_name": "Python 3 (ipykernel)",
   "language": "python",
   "name": "python3"
  },
  "language_info": {
   "codemirror_mode": {
    "name": "ipython",
    "version": 3
   },
   "file_extension": ".py",
   "mimetype": "text/x-python",
   "name": "python",
   "nbconvert_exporter": "python",
   "pygments_lexer": "ipython3",
   "version": "3.12.7"
  }
 },
 "nbformat": 4,
 "nbformat_minor": 5
}
