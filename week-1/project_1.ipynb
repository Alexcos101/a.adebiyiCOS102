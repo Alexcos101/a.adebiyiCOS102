{
 "cells": [
  {
   "cell_type": "code",
   "execution_count": 1,
   "id": "92655302-86d1-44d2-ab64-0b8a052961b2",
   "metadata": {},
   "outputs": [
    {
     "name": "stdout",
     "output_type": "stream",
     "text": [
      "1. Simple Interest\n",
      "2. Compound Interest\n",
      "3. Annuity Plan\n"
     ]
    },
    {
     "name": "stdin",
     "output_type": "stream",
     "text": [
      "Enter your choice (1/2/3):  1\n",
      "Enter principal amount:  300\n",
      "Enter rate of interest (%):  6\n",
      "Enter time (in years):  9\n"
     ]
    },
    {
     "name": "stdout",
     "output_type": "stream",
     "text": [
      "Simple Interest: 162.0\n"
     ]
    }
   ],
   "source": [
    "# Simple Interest\n",
    "def simple_interest(P, R, T):\n",
    "    return (P * R * T) / 100\n",
    "\n",
    "# Compound Interest\n",
    "def compound_interest(P, R, T):\n",
    "    A = P * (1 + R / 100) ** T\n",
    "    return A - P\n",
    "\n",
    "# Annuity Plan\n",
    "def annuity_plan(P, R, T):\n",
    "    return P * ((1 + R / 100) ** T - 1) / (R / 100)\n",
    "\n",
    "# Main program\n",
    "def main():\n",
    "    print(\"1. Simple Interest\")\n",
    "    print(\"2. Compound Interest\")\n",
    "    print(\"3. Annuity Plan\")\n",
    "\n",
    "    choice = int(input(\"Enter your choice (1/2/3): \"))\n",
    "\n",
    "    if choice == 1:\n",
    "        P = float(input(\"Enter principal amount: \"))\n",
    "        R = float(input(\"Enter rate of interest (%): \"))\n",
    "        T = float(input(\"Enter time (in years): \"))\n",
    "        SI = simple_interest(P, R, T)\n",
    "        print(f\"Simple Interest: {SI}\")\n",
    "\n",
    "    elif choice == 2:\n",
    "        P = float(input(\"Enter principal amount: \"))\n",
    "        R = float(input(\"Enter rate of interest (%): \"))\n",
    "        T = float(input(\"Enter time (in years): \"))\n",
    "        CI = compound_interest(P, R, T)\n",
    "        print(f\"Compound Interest: {CI}\")\n",
    "\n",
    "    elif choice == 3:\n",
    "        P = float(input(\"Enter periodic payment amount: \"))\n",
    "        R = float(input(\"Enter rate of interest (%): \"))\n",
    "        T = int(input(\"Enter number of periods (years): \"))\n",
    "        A = annuity_plan(P, R, T)\n",
    "        print(f\"Future value of annuity: {A}\")\n",
    "\n",
    "    else:\n",
    "        print(\"Invalid choice!\")\n",
    "\n",
    "# Run the main function\n",
    "if __name__ == \"__main__\":\n",
    "    main()\n",
    "\n",
    "\n",
    "\n",
    "\n",
    "\n",
    "\n",
    "\n",
    "\n",
    "\n",
    "\n",
    "\n",
    "\n",
    "\n",
    "\n",
    "\n",
    "\n",
    "\n",
    "\n",
    "\n",
    "\n",
    "\n"
   ]
  }
 ],
 "metadata": {
  "kernelspec": {
   "display_name": "Python 3 (ipykernel)",
   "language": "python",
   "name": "python3"
  },
  "language_info": {
   "codemirror_mode": {
    "name": "ipython",
    "version": 3
   },
   "file_extension": ".py",
   "mimetype": "text/x-python",
   "name": "python",
   "nbconvert_exporter": "python",
   "pygments_lexer": "ipython3",
   "version": "3.12.7"
  }
 },
 "nbformat": 4,
 "nbformat_minor": 5
}
